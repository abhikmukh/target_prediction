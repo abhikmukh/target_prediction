{
 "cells": [
  {
   "cell_type": "code",
   "execution_count": 1,
   "metadata": {},
   "outputs": [],
   "source": [
    "import pandas as pd"
   ]
  },
  {
   "cell_type": "code",
   "execution_count": 2,
   "metadata": {},
   "outputs": [
    {
     "name": "stderr",
     "output_type": "stream",
     "text": [
      "C:\\Users\\abhik\\AppData\\Local\\Temp\\ipykernel_4780\\2720486079.py:1: DtypeWarning: Columns (7,8,9,10,11,13,15,17,20,43) have mixed types. Specify dtype option on import or set low_memory=False.\n",
      "  df = pd.read_csv(\"data/BindingDB_BindingDB_Articles_202403.tsv\", sep='\\t', on_bad_lines='skip')\n"
     ]
    }
   ],
   "source": [
    "df = pd.read_csv(\"data/BindingDB_BindingDB_Articles_202403.tsv\", sep='\\t', on_bad_lines='skip')"
   ]
  },
  {
   "cell_type": "code",
   "execution_count": 3,
   "metadata": {},
   "outputs": [
    {
     "data": {
      "text/html": [
       "<div>\n",
       "<style scoped>\n",
       "    .dataframe tbody tr th:only-of-type {\n",
       "        vertical-align: middle;\n",
       "    }\n",
       "\n",
       "    .dataframe tbody tr th {\n",
       "        vertical-align: top;\n",
       "    }\n",
       "\n",
       "    .dataframe thead th {\n",
       "        text-align: right;\n",
       "    }\n",
       "</style>\n",
       "<table border=\"1\" class=\"dataframe\">\n",
       "  <thead>\n",
       "    <tr style=\"text-align: right;\">\n",
       "      <th></th>\n",
       "      <th>BindingDB Reactant_set_id</th>\n",
       "      <th>Ligand SMILES</th>\n",
       "      <th>Ligand InChI</th>\n",
       "      <th>Ligand InChI Key</th>\n",
       "      <th>BindingDB MonomerID</th>\n",
       "      <th>BindingDB Ligand Name</th>\n",
       "      <th>Target Name</th>\n",
       "      <th>Target Source Organism According to Curator or DataSource</th>\n",
       "      <th>Ki (nM)</th>\n",
       "      <th>IC50 (nM)</th>\n",
       "      <th>...</th>\n",
       "      <th>UniProt (SwissProt) Recommended Name of Target Chain</th>\n",
       "      <th>UniProt (SwissProt) Entry Name of Target Chain</th>\n",
       "      <th>UniProt (SwissProt) Primary ID of Target Chain</th>\n",
       "      <th>UniProt (SwissProt) Secondary ID(s) of Target Chain</th>\n",
       "      <th>UniProt (SwissProt) Alternative ID(s) of Target Chain</th>\n",
       "      <th>UniProt (TrEMBL) Submitted Name of Target Chain</th>\n",
       "      <th>UniProt (TrEMBL) Entry Name of Target Chain</th>\n",
       "      <th>UniProt (TrEMBL) Primary ID of Target Chain</th>\n",
       "      <th>UniProt (TrEMBL) Secondary ID(s) of Target Chain</th>\n",
       "      <th>UniProt (TrEMBL) Alternative ID(s) of Target Chain</th>\n",
       "    </tr>\n",
       "  </thead>\n",
       "  <tbody>\n",
       "    <tr>\n",
       "      <th>0</th>\n",
       "      <td>9825</td>\n",
       "      <td>COc1cc2c(Nc3ccc(Cl)cc3Cl)c(cnc2cc1OCCCN1CCN(C)...</td>\n",
       "      <td>InChI=1S/C25H27Cl2N5O2/c1-31-7-9-32(10-8-31)6-...</td>\n",
       "      <td>MVQUQGLRQPMJPU-UHFFFAOYSA-N</td>\n",
       "      <td>4521</td>\n",
       "      <td>3-quinolinecarbonitrile 3::4-Phenylamino-3-qui...</td>\n",
       "      <td>Proto-oncogene tyrosine-protein kinase Src</td>\n",
       "      <td>NaN</td>\n",
       "      <td>NaN</td>\n",
       "      <td>8.7</td>\n",
       "      <td>...</td>\n",
       "      <td>Proto-oncogene tyrosine-protein kinase Src</td>\n",
       "      <td>SRC_HUMAN</td>\n",
       "      <td>P12931</td>\n",
       "      <td>E1P5V4 Q76P87 Q86VB9 Q9H5A8</td>\n",
       "      <td>NaN</td>\n",
       "      <td>NaN</td>\n",
       "      <td>NaN</td>\n",
       "      <td>NaN</td>\n",
       "      <td>NaN</td>\n",
       "      <td>NaN</td>\n",
       "    </tr>\n",
       "    <tr>\n",
       "      <th>1</th>\n",
       "      <td>9826</td>\n",
       "      <td>COc1cc2c(Nc3cc(OC)c(OC)c(OC)c3)c(cnc2cc1OCCCN1...</td>\n",
       "      <td>InChI=1S/C28H35N5O5/c1-32-8-10-33(11-9-32)7-6-...</td>\n",
       "      <td>VOUVVBUKNLBXGS-UHFFFAOYSA-N</td>\n",
       "      <td>6121</td>\n",
       "      <td>3-quinolinecarbonitrile 4::6-methoxy-7-[3-(4-m...</td>\n",
       "      <td>Proto-oncogene tyrosine-protein kinase Src</td>\n",
       "      <td>NaN</td>\n",
       "      <td>NaN</td>\n",
       "      <td>5.1</td>\n",
       "      <td>...</td>\n",
       "      <td>Proto-oncogene tyrosine-protein kinase Src</td>\n",
       "      <td>SRC_HUMAN</td>\n",
       "      <td>P12931</td>\n",
       "      <td>E1P5V4 Q76P87 Q86VB9 Q9H5A8</td>\n",
       "      <td>NaN</td>\n",
       "      <td>NaN</td>\n",
       "      <td>NaN</td>\n",
       "      <td>NaN</td>\n",
       "      <td>NaN</td>\n",
       "      <td>NaN</td>\n",
       "    </tr>\n",
       "    <tr>\n",
       "      <th>2</th>\n",
       "      <td>9827</td>\n",
       "      <td>COCCOc1cc2ncc(C#N)c(Nc3cc(OC)c(Cl)cc3Cl)c2cc1O...</td>\n",
       "      <td>InChI=1S/C23H23Cl2N3O5/c1-29-4-6-32-21-8-15-18...</td>\n",
       "      <td>VXEOIAFZWQMOEP-UHFFFAOYSA-N</td>\n",
       "      <td>6122</td>\n",
       "      <td>3-quinolinecarbonitrile 8::4-[(2,4-dichloro-5-...</td>\n",
       "      <td>Proto-oncogene tyrosine-protein kinase Src</td>\n",
       "      <td>NaN</td>\n",
       "      <td>NaN</td>\n",
       "      <td>2.8</td>\n",
       "      <td>...</td>\n",
       "      <td>Proto-oncogene tyrosine-protein kinase Src</td>\n",
       "      <td>SRC_HUMAN</td>\n",
       "      <td>P12931</td>\n",
       "      <td>E1P5V4 Q76P87 Q86VB9 Q9H5A8</td>\n",
       "      <td>NaN</td>\n",
       "      <td>NaN</td>\n",
       "      <td>NaN</td>\n",
       "      <td>NaN</td>\n",
       "      <td>NaN</td>\n",
       "      <td>NaN</td>\n",
       "    </tr>\n",
       "    <tr>\n",
       "      <th>3</th>\n",
       "      <td>9828</td>\n",
       "      <td>COCCOc1cc2ncc(C#N)c(Nc3ccc(Cl)cc3Cl)c2cc1OCCOC</td>\n",
       "      <td>InChI=1S/C22H21Cl2N3O4/c1-28-5-7-30-20-10-16-1...</td>\n",
       "      <td>DTLASHUZTAPRBX-UHFFFAOYSA-N</td>\n",
       "      <td>6123</td>\n",
       "      <td>3-quinolinecarbonitrile 9::4-[(2,4-dichlorophe...</td>\n",
       "      <td>Proto-oncogene tyrosine-protein kinase Src</td>\n",
       "      <td>NaN</td>\n",
       "      <td>NaN</td>\n",
       "      <td>12</td>\n",
       "      <td>...</td>\n",
       "      <td>Proto-oncogene tyrosine-protein kinase Src</td>\n",
       "      <td>SRC_HUMAN</td>\n",
       "      <td>P12931</td>\n",
       "      <td>E1P5V4 Q76P87 Q86VB9 Q9H5A8</td>\n",
       "      <td>NaN</td>\n",
       "      <td>NaN</td>\n",
       "      <td>NaN</td>\n",
       "      <td>NaN</td>\n",
       "      <td>NaN</td>\n",
       "      <td>NaN</td>\n",
       "    </tr>\n",
       "    <tr>\n",
       "      <th>4</th>\n",
       "      <td>9829</td>\n",
       "      <td>COCCOc1cc2ncc(C#N)c(Nc3cc(OC)c(OC)c(OC)c3)c2cc...</td>\n",
       "      <td>InChI=1S/C25H29N3O7/c1-29-6-8-34-20-12-18-19(1...</td>\n",
       "      <td>BTBPPLGKNLXRGR-UHFFFAOYSA-N</td>\n",
       "      <td>6124</td>\n",
       "      <td>3-quinolinecarbonitrile 10::6,7-bis(2-methoxye...</td>\n",
       "      <td>Proto-oncogene tyrosine-protein kinase Src</td>\n",
       "      <td>NaN</td>\n",
       "      <td>NaN</td>\n",
       "      <td>25</td>\n",
       "      <td>...</td>\n",
       "      <td>Proto-oncogene tyrosine-protein kinase Src</td>\n",
       "      <td>SRC_HUMAN</td>\n",
       "      <td>P12931</td>\n",
       "      <td>E1P5V4 Q76P87 Q86VB9 Q9H5A8</td>\n",
       "      <td>NaN</td>\n",
       "      <td>NaN</td>\n",
       "      <td>NaN</td>\n",
       "      <td>NaN</td>\n",
       "      <td>NaN</td>\n",
       "      <td>NaN</td>\n",
       "    </tr>\n",
       "  </tbody>\n",
       "</table>\n",
       "<p>5 rows × 50 columns</p>\n",
       "</div>"
      ],
      "text/plain": [
       "   BindingDB Reactant_set_id  \\\n",
       "0                       9825   \n",
       "1                       9826   \n",
       "2                       9827   \n",
       "3                       9828   \n",
       "4                       9829   \n",
       "\n",
       "                                       Ligand SMILES  \\\n",
       "0  COc1cc2c(Nc3ccc(Cl)cc3Cl)c(cnc2cc1OCCCN1CCN(C)...   \n",
       "1  COc1cc2c(Nc3cc(OC)c(OC)c(OC)c3)c(cnc2cc1OCCCN1...   \n",
       "2  COCCOc1cc2ncc(C#N)c(Nc3cc(OC)c(Cl)cc3Cl)c2cc1O...   \n",
       "3     COCCOc1cc2ncc(C#N)c(Nc3ccc(Cl)cc3Cl)c2cc1OCCOC   \n",
       "4  COCCOc1cc2ncc(C#N)c(Nc3cc(OC)c(OC)c(OC)c3)c2cc...   \n",
       "\n",
       "                                        Ligand InChI  \\\n",
       "0  InChI=1S/C25H27Cl2N5O2/c1-31-7-9-32(10-8-31)6-...   \n",
       "1  InChI=1S/C28H35N5O5/c1-32-8-10-33(11-9-32)7-6-...   \n",
       "2  InChI=1S/C23H23Cl2N3O5/c1-29-4-6-32-21-8-15-18...   \n",
       "3  InChI=1S/C22H21Cl2N3O4/c1-28-5-7-30-20-10-16-1...   \n",
       "4  InChI=1S/C25H29N3O7/c1-29-6-8-34-20-12-18-19(1...   \n",
       "\n",
       "              Ligand InChI Key  BindingDB MonomerID  \\\n",
       "0  MVQUQGLRQPMJPU-UHFFFAOYSA-N                 4521   \n",
       "1  VOUVVBUKNLBXGS-UHFFFAOYSA-N                 6121   \n",
       "2  VXEOIAFZWQMOEP-UHFFFAOYSA-N                 6122   \n",
       "3  DTLASHUZTAPRBX-UHFFFAOYSA-N                 6123   \n",
       "4  BTBPPLGKNLXRGR-UHFFFAOYSA-N                 6124   \n",
       "\n",
       "                               BindingDB Ligand Name  \\\n",
       "0  3-quinolinecarbonitrile 3::4-Phenylamino-3-qui...   \n",
       "1  3-quinolinecarbonitrile 4::6-methoxy-7-[3-(4-m...   \n",
       "2  3-quinolinecarbonitrile 8::4-[(2,4-dichloro-5-...   \n",
       "3  3-quinolinecarbonitrile 9::4-[(2,4-dichlorophe...   \n",
       "4  3-quinolinecarbonitrile 10::6,7-bis(2-methoxye...   \n",
       "\n",
       "                                  Target Name  \\\n",
       "0  Proto-oncogene tyrosine-protein kinase Src   \n",
       "1  Proto-oncogene tyrosine-protein kinase Src   \n",
       "2  Proto-oncogene tyrosine-protein kinase Src   \n",
       "3  Proto-oncogene tyrosine-protein kinase Src   \n",
       "4  Proto-oncogene tyrosine-protein kinase Src   \n",
       "\n",
       "  Target Source Organism According to Curator or DataSource Ki (nM) IC50 (nM)  \\\n",
       "0                                                NaN            NaN       8.7   \n",
       "1                                                NaN            NaN       5.1   \n",
       "2                                                NaN            NaN       2.8   \n",
       "3                                                NaN            NaN        12   \n",
       "4                                                NaN            NaN        25   \n",
       "\n",
       "   ... UniProt (SwissProt) Recommended Name of Target Chain  \\\n",
       "0  ...         Proto-oncogene tyrosine-protein kinase Src     \n",
       "1  ...         Proto-oncogene tyrosine-protein kinase Src     \n",
       "2  ...         Proto-oncogene tyrosine-protein kinase Src     \n",
       "3  ...         Proto-oncogene tyrosine-protein kinase Src     \n",
       "4  ...         Proto-oncogene tyrosine-protein kinase Src     \n",
       "\n",
       "  UniProt (SwissProt) Entry Name of Target Chain  \\\n",
       "0                                      SRC_HUMAN   \n",
       "1                                      SRC_HUMAN   \n",
       "2                                      SRC_HUMAN   \n",
       "3                                      SRC_HUMAN   \n",
       "4                                      SRC_HUMAN   \n",
       "\n",
       "   UniProt (SwissProt) Primary ID of Target Chain  \\\n",
       "0                                          P12931   \n",
       "1                                          P12931   \n",
       "2                                          P12931   \n",
       "3                                          P12931   \n",
       "4                                          P12931   \n",
       "\n",
       "  UniProt (SwissProt) Secondary ID(s) of Target Chain  \\\n",
       "0                        E1P5V4 Q76P87 Q86VB9 Q9H5A8    \n",
       "1                        E1P5V4 Q76P87 Q86VB9 Q9H5A8    \n",
       "2                        E1P5V4 Q76P87 Q86VB9 Q9H5A8    \n",
       "3                        E1P5V4 Q76P87 Q86VB9 Q9H5A8    \n",
       "4                        E1P5V4 Q76P87 Q86VB9 Q9H5A8    \n",
       "\n",
       "   UniProt (SwissProt) Alternative ID(s) of Target Chain  \\\n",
       "0                                                NaN       \n",
       "1                                                NaN       \n",
       "2                                                NaN       \n",
       "3                                                NaN       \n",
       "4                                                NaN       \n",
       "\n",
       "  UniProt (TrEMBL) Submitted Name of Target Chain  \\\n",
       "0                                             NaN   \n",
       "1                                             NaN   \n",
       "2                                             NaN   \n",
       "3                                             NaN   \n",
       "4                                             NaN   \n",
       "\n",
       "  UniProt (TrEMBL) Entry Name of Target Chain  \\\n",
       "0                                         NaN   \n",
       "1                                         NaN   \n",
       "2                                         NaN   \n",
       "3                                         NaN   \n",
       "4                                         NaN   \n",
       "\n",
       "  UniProt (TrEMBL) Primary ID of Target Chain  \\\n",
       "0                                         NaN   \n",
       "1                                         NaN   \n",
       "2                                         NaN   \n",
       "3                                         NaN   \n",
       "4                                         NaN   \n",
       "\n",
       "  UniProt (TrEMBL) Secondary ID(s) of Target Chain  \\\n",
       "0                                              NaN   \n",
       "1                                              NaN   \n",
       "2                                              NaN   \n",
       "3                                              NaN   \n",
       "4                                              NaN   \n",
       "\n",
       "   UniProt (TrEMBL) Alternative ID(s) of Target Chain  \n",
       "0                                                NaN   \n",
       "1                                                NaN   \n",
       "2                                                NaN   \n",
       "3                                                NaN   \n",
       "4                                                NaN   \n",
       "\n",
       "[5 rows x 50 columns]"
      ]
     },
     "execution_count": 3,
     "metadata": {},
     "output_type": "execute_result"
    }
   ],
   "source": [
    "df.head()"
   ]
  },
  {
   "cell_type": "code",
   "execution_count": 4,
   "metadata": {},
   "outputs": [
    {
     "data": {
      "text/plain": [
       "(84062, 50)"
      ]
     },
     "execution_count": 4,
     "metadata": {},
     "output_type": "execute_result"
    }
   ],
   "source": [
    "df.shape"
   ]
  },
  {
   "cell_type": "code",
   "execution_count": 5,
   "metadata": {},
   "outputs": [
    {
     "data": {
      "text/plain": [
       "44214"
      ]
     },
     "execution_count": 5,
     "metadata": {},
     "output_type": "execute_result"
    }
   ],
   "source": [
    "df[\"Ligand SMILES\"].nunique()"
   ]
  },
  {
   "cell_type": "code",
   "execution_count": 6,
   "metadata": {},
   "outputs": [
    {
     "data": {
      "text/plain": [
       "BindingDB Reactant_set_id                                                   0\n",
       "Ligand SMILES                                                               0\n",
       "Ligand InChI                                                              764\n",
       "Ligand InChI Key                                                          764\n",
       "BindingDB MonomerID                                                         0\n",
       "BindingDB Ligand Name                                                       0\n",
       "Target Name                                                                 0\n",
       "Target Source Organism According to Curator or DataSource               22678\n",
       "Ki (nM)                                                                 60479\n",
       "IC50 (nM)                                                               27912\n",
       "Kd (nM)                                                                 81538\n",
       "EC50 (nM)                                                               79674\n",
       "kon (M-1-s-1)                                                           84047\n",
       "koff (s-1)                                                              84033\n",
       "pH                                                                      45840\n",
       "Temp (C)                                                                46806\n",
       "Curation/DataSource                                                         0\n",
       "Article DOI                                                              5471\n",
       "BindingDB Entry DOI                                                         0\n",
       "PMID                                                                     3537\n",
       "PubChem AID                                                              3365\n",
       "Patent Number                                                           84062\n",
       "Authors                                                                     0\n",
       "Institution                                                                 0\n",
       "Link to Ligand in BindingDB                                                 0\n",
       "Link to Target in BindingDB                                                 0\n",
       "Link to Ligand-Target Pair in BindingDB                                     0\n",
       "Ligand HET ID in PDB                                                    73885\n",
       "PDB ID(s) for Ligand-Target Complex                                     73936\n",
       "PubChem CID of Ligand                                                     199\n",
       "PubChem SID of Ligand                                                     189\n",
       "ChEBI ID of Ligand                                                      79207\n",
       "ChEMBL ID of Ligand                                                     72535\n",
       "DrugBank ID of Ligand                                                   79348\n",
       "IUPHAR_GRAC ID of Ligand                                                80465\n",
       "KEGG ID of Ligand                                                       78337\n",
       "ZINC ID of Ligand                                                       21015\n",
       "Number of Protein Chains in Target (>1 implies a multichain complex)        0\n",
       "BindingDB Target Chain Sequence                                             0\n",
       "PDB ID(s) of Target Chain                                               10596\n",
       "UniProt (SwissProt) Recommended Name of Target Chain                     3901\n",
       "UniProt (SwissProt) Entry Name of Target Chain                           3901\n",
       "UniProt (SwissProt) Primary ID of Target Chain                           3901\n",
       "UniProt (SwissProt) Secondary ID(s) of Target Chain                     21137\n",
       "UniProt (SwissProt) Alternative ID(s) of Target Chain                   84062\n",
       "UniProt (TrEMBL) Submitted Name of Target Chain                         77388\n",
       "UniProt (TrEMBL) Entry Name of Target Chain                             77388\n",
       "UniProt (TrEMBL) Primary ID of Target Chain                             77342\n",
       "UniProt (TrEMBL) Secondary ID(s) of Target Chain                        80938\n",
       "UniProt (TrEMBL) Alternative ID(s) of Target Chain                      84062\n",
       "dtype: int64"
      ]
     },
     "execution_count": 6,
     "metadata": {},
     "output_type": "execute_result"
    }
   ],
   "source": [
    "df.isnull().sum()"
   ]
  },
  {
   "cell_type": "code",
   "execution_count": 7,
   "metadata": {},
   "outputs": [
    {
     "data": {
      "text/plain": [
       "1794"
      ]
     },
     "execution_count": 7,
     "metadata": {},
     "output_type": "execute_result"
    }
   ],
   "source": [
    "df[\"Target Name\"].nunique()"
   ]
  },
  {
   "cell_type": "code",
   "execution_count": 8,
   "metadata": {},
   "outputs": [
    {
     "data": {
      "text/plain": [
       "Target Name\n",
       "Interleukin-1 receptor-associated kinase 1 [184-712]                               1\n",
       "Phosphatidylinositol 4-phosphate 3-kinase C2 domain-containing subunit alpha       1\n",
       "Phosphatidylinositol 4-phosphate 5-kinase type-1 alpha                             1\n",
       "Phosphatidylinositol 4-phosphate 5-kinase type-1 beta                              1\n",
       "Ectonucleotide pyrophosphatase/phosphodiesterase 2                                 1\n",
       "                                                                                ... \n",
       "Carbonic anhydrase 2                                                            1284\n",
       "Vascular endothelial growth factor receptor 2                                   1323\n",
       "Dimer of Gag-Pol polyprotein [489-587]                                          1675\n",
       "Acetylcholinesterase                                                            1889\n",
       "Replicase polyprotein 1ab                                                       7143\n",
       "Length: 1794, dtype: int64"
      ]
     },
     "execution_count": 8,
     "metadata": {},
     "output_type": "execute_result"
    }
   ],
   "source": [
    "df.groupby(\"Target Name\").size().sort_values()"
   ]
  },
  {
   "cell_type": "markdown",
   "metadata": {},
   "source": [
    "We will use 50% of the data. "
   ]
  },
  {
   "cell_type": "code",
   "execution_count": 9,
   "metadata": {},
   "outputs": [],
   "source": [
    "df_half = df.sample(frac=0.5, random_state=42)"
   ]
  },
  {
   "cell_type": "code",
   "execution_count": 10,
   "metadata": {},
   "outputs": [
    {
     "data": {
      "text/plain": [
       "(42031, 50)"
      ]
     },
     "execution_count": 10,
     "metadata": {},
     "output_type": "execute_result"
    }
   ],
   "source": [
    "df_half.shape"
   ]
  },
  {
   "cell_type": "code",
   "execution_count": 11,
   "metadata": {},
   "outputs": [
    {
     "data": {
      "text/plain": [
       "Index(['BindingDB Reactant_set_id', 'Ligand SMILES', 'Ligand InChI',\n",
       "       'Ligand InChI Key', 'BindingDB MonomerID', 'BindingDB Ligand Name',\n",
       "       'Target Name',\n",
       "       'Target Source Organism According to Curator or DataSource', 'Ki (nM)',\n",
       "       'IC50 (nM)', 'Kd (nM)', 'EC50 (nM)', 'kon (M-1-s-1)', 'koff (s-1)',\n",
       "       'pH', 'Temp (C)', 'Curation/DataSource', 'Article DOI',\n",
       "       'BindingDB Entry DOI', 'PMID', 'PubChem AID', 'Patent Number',\n",
       "       'Authors', 'Institution', 'Link to Ligand in BindingDB',\n",
       "       'Link to Target in BindingDB',\n",
       "       'Link to Ligand-Target Pair in BindingDB', 'Ligand HET ID in PDB',\n",
       "       'PDB ID(s) for Ligand-Target Complex', 'PubChem CID of Ligand',\n",
       "       'PubChem SID of Ligand', 'ChEBI ID of Ligand', 'ChEMBL ID of Ligand',\n",
       "       'DrugBank ID of Ligand', 'IUPHAR_GRAC ID of Ligand',\n",
       "       'KEGG ID of Ligand', 'ZINC ID of Ligand',\n",
       "       'Number of Protein Chains in Target (>1 implies a multichain complex)',\n",
       "       'BindingDB Target Chain Sequence', 'PDB ID(s) of Target Chain',\n",
       "       'UniProt (SwissProt) Recommended Name of Target Chain',\n",
       "       'UniProt (SwissProt) Entry Name of Target Chain',\n",
       "       'UniProt (SwissProt) Primary ID of Target Chain',\n",
       "       'UniProt (SwissProt) Secondary ID(s) of Target Chain',\n",
       "       'UniProt (SwissProt) Alternative ID(s) of Target Chain',\n",
       "       'UniProt (TrEMBL) Submitted Name of Target Chain',\n",
       "       'UniProt (TrEMBL) Entry Name of Target Chain',\n",
       "       'UniProt (TrEMBL) Primary ID of Target Chain',\n",
       "       'UniProt (TrEMBL) Secondary ID(s) of Target Chain',\n",
       "       'UniProt (TrEMBL) Alternative ID(s) of Target Chain'],\n",
       "      dtype='object')"
      ]
     },
     "execution_count": 11,
     "metadata": {},
     "output_type": "execute_result"
    }
   ],
   "source": [
    "df_half.columns"
   ]
  },
  {
   "cell_type": "code",
   "execution_count": 12,
   "metadata": {},
   "outputs": [],
   "source": [
    "data_df = df_half[[\"BindingDB MonomerID\", \"Ligand SMILES\", \"Target Name\"]]"
   ]
  },
  {
   "cell_type": "code",
   "execution_count": 13,
   "metadata": {},
   "outputs": [
    {
     "data": {
      "text/plain": [
       "(42031, 3)"
      ]
     },
     "execution_count": 13,
     "metadata": {},
     "output_type": "execute_result"
    }
   ],
   "source": [
    "data_df.shape"
   ]
  },
  {
   "cell_type": "code",
   "execution_count": 14,
   "metadata": {},
   "outputs": [
    {
     "data": {
      "text/html": [
       "<div>\n",
       "<style scoped>\n",
       "    .dataframe tbody tr th:only-of-type {\n",
       "        vertical-align: middle;\n",
       "    }\n",
       "\n",
       "    .dataframe tbody tr th {\n",
       "        vertical-align: top;\n",
       "    }\n",
       "\n",
       "    .dataframe thead th {\n",
       "        text-align: right;\n",
       "    }\n",
       "</style>\n",
       "<table border=\"1\" class=\"dataframe\">\n",
       "  <thead>\n",
       "    <tr style=\"text-align: right;\">\n",
       "      <th></th>\n",
       "      <th>BindingDB MonomerID</th>\n",
       "      <th>Ligand SMILES</th>\n",
       "      <th>Target Name</th>\n",
       "    </tr>\n",
       "  </thead>\n",
       "  <tbody>\n",
       "    <tr>\n",
       "      <th>54859</th>\n",
       "      <td>81561</td>\n",
       "      <td>CC(Br)Cc1ccc(O)c(c1)-c1ccc(O)c(CC=C)c1</td>\n",
       "      <td>Cannabinoid receptor 1</td>\n",
       "    </tr>\n",
       "    <tr>\n",
       "      <th>64031</th>\n",
       "      <td>153401</td>\n",
       "      <td>COc1cccc(Nc2c(cnc3c(C)cc(cc23)-c2ccc3[nH]ccc3c...</td>\n",
       "      <td>Phosphodiesterase</td>\n",
       "    </tr>\n",
       "  </tbody>\n",
       "</table>\n",
       "</div>"
      ],
      "text/plain": [
       "       BindingDB MonomerID                                      Ligand SMILES  \\\n",
       "54859                81561             CC(Br)Cc1ccc(O)c(c1)-c1ccc(O)c(CC=C)c1   \n",
       "64031               153401  COc1cccc(Nc2c(cnc3c(C)cc(cc23)-c2ccc3[nH]ccc3c...   \n",
       "\n",
       "                  Target Name  \n",
       "54859  Cannabinoid receptor 1  \n",
       "64031       Phosphodiesterase  "
      ]
     },
     "execution_count": 14,
     "metadata": {},
     "output_type": "execute_result"
    }
   ],
   "source": [
    "data_df.head(2)"
   ]
  },
  {
   "cell_type": "code",
   "execution_count": 15,
   "metadata": {},
   "outputs": [
    {
     "name": "stderr",
     "output_type": "stream",
     "text": [
      "C:\\Users\\abhik\\AppData\\Local\\Temp\\ipykernel_4780\\104187436.py:1: SettingWithCopyWarning: \n",
      "A value is trying to be set on a copy of a slice from a DataFrame\n",
      "\n",
      "See the caveats in the documentation: https://pandas.pydata.org/pandas-docs/stable/user_guide/indexing.html#returning-a-view-versus-a-copy\n",
      "  data_df.rename(columns={\"BindingDB MonomerID\": \"MonomerID\", \"Ligand SMILES\": \"smiles\", \"Target Name\": \"target\"}, inplace=True)\n"
     ]
    }
   ],
   "source": [
    "data_df.rename(columns={\"BindingDB MonomerID\": \"MonomerID\", \"Ligand SMILES\": \"smiles\", \"Target Name\": \"target\"}, inplace=True)"
   ]
  },
  {
   "cell_type": "markdown",
   "metadata": {},
   "source": [
    "We will remove the rows with target ids that only have one compound."
   ]
  },
  {
   "cell_type": "code",
   "execution_count": 16,
   "metadata": {},
   "outputs": [],
   "source": [
    "data_df = data_df[data_df.duplicated(\"target\", keep=False)]\n"
   ]
  },
  {
   "cell_type": "code",
   "execution_count": 17,
   "metadata": {},
   "outputs": [
    {
     "data": {
      "text/plain": [
       "target\n",
       "Replicase polyprotein 1ab                                           3570\n",
       "Acetylcholinesterase                                                 935\n",
       "Dimer of Gag-Pol polyprotein [489-587]                               844\n",
       "Vascular endothelial growth factor receptor 2                        687\n",
       "Carbonic anhydrase 2                                                 635\n",
       "                                                                    ... \n",
       "Lysine-specific demethylase 5A [1-801]                                 2\n",
       "Nitric oxide synthase oxygenase [E25A,E26A,I218V,E316A]                2\n",
       "UDP-N-acetylglucosamine 1-carboxyvinyltransferase 2                    2\n",
       "Proto-oncogene tyrosine-protein kinase Src [251-533,T338M,S345C]       2\n",
       "F420-dependent glucose-6-phosphate dehydrogenase [W44Y]                2\n",
       "Name: count, Length: 1270, dtype: int64"
      ]
     },
     "execution_count": 17,
     "metadata": {},
     "output_type": "execute_result"
    }
   ],
   "source": [
    "data_df.target.value_counts()"
   ]
  },
  {
   "cell_type": "code",
   "execution_count": 18,
   "metadata": {},
   "outputs": [],
   "source": [
    "data_df.to_csv(\"data/processed_smiles_target.csv\", index=False)"
   ]
  }
 ],
 "metadata": {
  "kernelspec": {
   "display_name": "my_flask",
   "language": "python",
   "name": "python3"
  },
  "language_info": {
   "codemirror_mode": {
    "name": "ipython",
    "version": 3
   },
   "file_extension": ".py",
   "mimetype": "text/x-python",
   "name": "python",
   "nbconvert_exporter": "python",
   "pygments_lexer": "ipython3",
   "version": "3.12.2"
  }
 },
 "nbformat": 4,
 "nbformat_minor": 2
}
